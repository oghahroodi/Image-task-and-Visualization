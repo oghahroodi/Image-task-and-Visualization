{
  "nbformat": 4,
  "nbformat_minor": 0,
  "metadata": {
    "colab": {
      "name": "assignment_02.ipynb",
      "provenance": [],
      "collapsed_sections": [],
      "toc_visible": true
    },
    "kernelspec": {
      "name": "python3",
      "display_name": "Python 3"
    },
    "language_info": {
      "codemirror_mode": {
        "name": "ipython",
        "version": 3
      },
      "file_extension": ".py",
      "mimetype": "text/x-python",
      "name": "python",
      "nbconvert_exporter": "python",
      "pygments_lexer": "ipython3",
      "version": "3.7.0"
    },
    "accelerator": "GPU"
  },
  "cells": [
    {
      "cell_type": "markdown",
      "metadata": {
        "button": false,
        "id": "-woU4Sodh6ND",
        "new_sheet": false,
        "run_control": {
          "read_only": false
        }
      },
      "source": [
        "# Assignment #2\n",
        "\n",
        "\n",
        "Deep Learning / Fall 1398, Iran University of Science and Technology\n",
        "\n",
        "\n",
        "\n",
        "---\n",
        "\n"
      ]
    },
    {
      "cell_type": "markdown",
      "metadata": {
        "button": false,
        "id": "JWitIy1viFuD",
        "new_sheet": false,
        "run_control": {
          "read_only": false
        }
      },
      "source": [
        "**Please pay attention to these notes:**\n",
        "\n",
        "<br/>\n",
        "- **Assignment Due: ** 1398/9/23 23:59\n",
        "- If you need any additional information, please review the assignment page on the course website.\n",
        "- We always recommend co-operation and discussion in groups for assignments. However, each student has to finish all the questions by himself/herself. If our matching system identifies any sort of copying, you'll be responsible for consequences. So, please mention his/her name if you have a team-mate.\n",
        "- Students who audit this course should submit their assignments like other students to be qualified for attending the rest of the sessions.\n",
        "- Finding any sort of copying will zero down that assignment grade and also will be counted as two negative assignment for your final score.\n",
        "- When you are ready to submit, please follow the instructions at the end of this notebook.\n",
        "- If you have any questions about this assignment, feel free to drop us a line. You may also post your questions on the course Forum page.\n",
        "- You must run this notebook on Google Colab platform, it depends on Google Colab VM for some of its dependencies.\n",
        "- **Before starting to work on the assignment Please fill your name in the next section *AND Remember to RUN the cell.* **\n",
        "\n",
        "<br/>\n",
        "\n",
        "\n",
        "Assignment Page: []()\n",
        "\n",
        "Course Forum: [https://groups.google.com/forum/#!forum/dl981/](https://groups.google.com/forum/#!forum/dl981/)"
      ]
    },
    {
      "cell_type": "markdown",
      "metadata": {
        "button": false,
        "id": "0ejALNiDCWnd",
        "new_sheet": false,
        "run_control": {
          "read_only": false
        }
      },
      "source": [
        "\n",
        "\n",
        "---\n",
        "\n"
      ]
    },
    {
      "cell_type": "markdown",
      "metadata": {
        "button": false,
        "id": "Vjwf6dWNCIQP",
        "new_sheet": false,
        "run_control": {
          "read_only": false
        }
      },
      "source": [
        "Fill your information here & run the cell"
      ]
    },
    {
      "cell_type": "code",
      "metadata": {
        "button": false,
        "cellView": "form",
        "id": "NeLkOPE6Qwr7",
        "new_sheet": false,
        "run_control": {
          "read_only": false
        },
        "colab": {
          "base_uri": "https://localhost:8080/",
          "height": 51
        },
        "outputId": "3433af0b-1987-4dbe-a50b-2bde76a53774"
      },
      "source": [
        "#@title Enter your information & \"RUN the cell!!\" { run: \"auto\" }\n",
        "student_id = 95521378 #@param {type:\"integer\"}\n",
        "student_name = \"Omid Ghahroodi\" #@param {type:\"string\"}\n",
        "Your_Github_account_Email = \"oghahroodi98@gmail.com\" #@param {type:\"string\"}\n",
        "\n",
        "print(\"your student id:\", student_id)\n",
        "print(\"your name:\", student_name)\n",
        "\n",
        "\n",
        "from pathlib import Path\n",
        "\n",
        "ASSIGNMENT_PATH = Path('asg02')\n",
        "ASSIGNMENT_PATH.mkdir(parents=True, exist_ok=True)"
      ],
      "execution_count": null,
      "outputs": [
        {
          "output_type": "stream",
          "text": [
            "your student id: 95521378\n",
            "your name: Omid Ghahroodi\n"
          ],
          "name": "stdout"
        }
      ]
    },
    {
      "cell_type": "markdown",
      "metadata": {
        "button": false,
        "id": "QfSFVOaKvlDb",
        "new_sheet": false,
        "run_control": {
          "read_only": false
        }
      },
      "source": [
        "# 1. Special Bus Line"
      ]
    },
    {
      "cell_type": "markdown",
      "metadata": {
        "button": false,
        "id": "UmprL4aETrj8",
        "new_sheet": false,
        "run_control": {
          "read_only": false
        }
      },
      "source": [
        "Consider the public transport bus service. It has many gates on roads in the city and a particular lane for bus transportation.\n",
        "\n",
        "\n",
        "This lane is also used for the transportation of emergency vehicles like ambulances, police cars and fire trucks, and private cars are banned from using it.\n",
        "\n",
        "\n",
        "Your task is to create a system to classify these two classes of vehicles."
      ]
    },
    {
      "cell_type": "markdown",
      "metadata": {
        "button": false,
        "id": "NLU26ncrYZL5",
        "new_sheet": false,
        "run_control": {
          "read_only": false
        }
      },
      "source": [
        "### Dataset\n",
        "---\n",
        "In this task, you should build your dataset based on an arbitrary approach. Of course, we suggest having a look at [this](https://forums.fast.ai/t/tips-for-building-large-image-datasets/26688) link if you do not have any idea about making the dataset.\n",
        "\n"
      ]
    },
    {
      "cell_type": "markdown",
      "metadata": {
        "button": false,
        "id": "tFqWPWvot29x",
        "new_sheet": false,
        "run_control": {
          "read_only": false
        }
      },
      "source": [
        "Please explain your dataset making method."
      ]
    },
    {
      "cell_type": "code",
      "metadata": {
        "id": "bensiUcvZJ5T",
        "colab": {
          "base_uri": "https://localhost:8080/",
          "height": 101
        },
        "outputId": "6bdff1df-9353-4c10-bc07-37bdf8481fd4"
      },
      "source": [
        "!pip install requests\n"
      ],
      "execution_count": null,
      "outputs": [
        {
          "output_type": "stream",
          "text": [
            "Requirement already satisfied: requests in /usr/local/lib/python3.6/dist-packages (2.21.0)\n",
            "Requirement already satisfied: chardet<3.1.0,>=3.0.2 in /usr/local/lib/python3.6/dist-packages (from requests) (3.0.4)\n",
            "Requirement already satisfied: urllib3<1.25,>=1.21.1 in /usr/local/lib/python3.6/dist-packages (from requests) (1.24.3)\n",
            "Requirement already satisfied: idna<2.9,>=2.5 in /usr/local/lib/python3.6/dist-packages (from requests) (2.8)\n",
            "Requirement already satisfied: certifi>=2017.4.17 in /usr/local/lib/python3.6/dist-packages (from requests) (2019.11.28)\n"
          ],
          "name": "stdout"
        }
      ]
    },
    {
      "cell_type": "code",
      "metadata": {
        "id": "cw6CwC_uaiPy"
      },
      "source": [
        "from requests import exceptions\n",
        "import argparse\n",
        "import requests\n",
        "import cv2\n",
        "import os\n",
        "\n",
        "def make_data_of_img(image, num_of_data, output_path):\n",
        "  # set your Microsoft Cognitive Services API key along with (1) the\n",
        "  # maximum number of results for a given search and (2) the group size\n",
        "  # for results (maximum of 50 per request)\n",
        "  API_KEY = \"eddad25108a44ff19b376aa45490041a\"\n",
        "  MAX_RESULTS = num_of_data\n",
        "  GROUP_SIZE = 50\n",
        "  \n",
        "  # set the endpoint API URL\n",
        "  URL = \"https://api.cognitive.microsoft.com/bing/v7.0/images/search\"\n",
        "\n",
        "\n",
        "\n",
        "  # when attempting to download images from the web both the Python\n",
        "  # programming language and the requests library have a number of\n",
        "  # exceptions that can be thrown so let's build a list of them now\n",
        "  # so we can filter on them\n",
        "  EXCEPTIONS = set([IOError, FileNotFoundError,exceptions.RequestException, exceptions.HTTPError,exceptions.ConnectionError, exceptions.Timeout])\n",
        "  # EXCEPTIONS = set()\n",
        "\n",
        "  # store the search term in a convenience variable then set the\n",
        "  # headers and search parameters\n",
        "  term = image\n",
        "  headers = {\"Ocp-Apim-Subscription-Key\" : API_KEY}\n",
        "  params = {\"q\": term, \"offset\": 0, \"count\": GROUP_SIZE}\n",
        "\n",
        "  # make the search\n",
        "  print(\"[INFO] searching Bing API for '{}'\".format(term))\n",
        "  search = requests.get(URL, headers=headers, params=params)\n",
        "  search.raise_for_status()\n",
        "\n",
        "  # grab the results from the search, including the total number of\n",
        "  # estimated results returned by the Bing API\n",
        "  results = search.json()\n",
        "  estNumResults = min(results[\"totalEstimatedMatches\"], MAX_RESULTS)\n",
        "  print(\"[INFO] {} total results for '{}'\".format(estNumResults,term))\n",
        "\n",
        "  # initialize the total number of images downloaded thus far\n",
        "  total = 0\n",
        "\n",
        "\n",
        "  # loop over the estimated number of results in `GROUP_SIZE` groups\n",
        "  for offset in range(0, estNumResults, GROUP_SIZE):\n",
        "      # update the search parameters using the current offset, then\n",
        "      # make the request to fetch the results\n",
        "      print(\"[INFO] making request for group {}-{} of {}...\".format(offset, offset + GROUP_SIZE, estNumResults))\n",
        "      params[\"offset\"] = offset\n",
        "      search = requests.get(URL, headers=headers, params=params)\n",
        "      search.raise_for_status()\n",
        "      results = search.json()\n",
        "      print(\"[INFO] saving images for group {}-{} of {}...\".format(offset, offset + GROUP_SIZE, estNumResults))\n",
        "\n",
        "      # print(results)\n",
        "      # loop over the results\n",
        "      for v in results[\"value\"]:\n",
        "          # try to download the image\n",
        "          try:\n",
        "              # make a request to download the image\n",
        "              print(\"[INFO] fetching: {}\".format(v[\"contentUrl\"]))\n",
        "              r = requests.get(v[\"contentUrl\"], timeout=30)\n",
        "\n",
        "              # build the path to the output image\n",
        "              ext = v[\"contentUrl\"][v[\"contentUrl\"].rfind(\".\"):]\n",
        "              p = os.path.sep.join([output_path, \"{}{}\".format(str(total).zfill(8), ext)])\n",
        "              print(p)\n",
        "\n",
        "              # write the image to disk\n",
        "              f = open(p, \"wb\")\n",
        "              f.write(r.content)\n",
        "              f.close()\n",
        "\n",
        "          # catch any errors that would not unable us to download the\n",
        "          # image\n",
        "          except Exception as e:\n",
        "              # check to see if our exception is in our list of\n",
        "              # exceptions to check for\n",
        "              if type(e) in EXCEPTIONS:\n",
        "                  print(\"[INFO] skipping: {}\".format(v[\"contentUrl\"]))\n",
        "                  continue\n",
        "\n",
        "          # try to load the image from disk\n",
        "          image = cv2.imread(p)\n",
        "\n",
        "          # if the image is `None` then we could not properly load the\n",
        "          # image from disk (so it should be ignored)\n",
        "          if image is None:\n",
        "              print(\"[INFO] deleting: {}\".format(p))\n",
        "              os.remove(p)\n",
        "              continue\n",
        "\n",
        "          # update the counter\n",
        "          total += 1"
      ],
      "execution_count": null,
      "outputs": []
    },
    {
      "cell_type": "code",
      "metadata": {
        "id": "9ELKqKHQbLiR",
        "colab": {
          "base_uri": "https://localhost:8080/",
          "height": 387
        },
        "outputId": "27d4d69c-b703-4719-cdb3-b2ee908b28f7"
      },
      "source": [
        "!rm -rf dataset\n",
        "!mkdir dataset\n",
        "!mkdir dataset/normal_vehicles\n",
        "!mkdir dataset/emergency_vehicles\n",
        "!mkdir dataset/emergency_vehicles/ambulances\n",
        "!mkdir dataset/emergency_vehicles/bus\n",
        "!mkdir dataset/emergency_vehicles/fire_trucks\n",
        "!mkdir dataset/emergency_vehicles/police_cars\n",
        "make_data_of_img(image='car',num_of_data=4000,output_path='dataset/normal_vehicles')\n",
        "make_data_of_img(image='ambulances',num_of_data=1000,output_path='dataset/emergency_vehicles/ambulances')\n",
        "make_data_of_img(image='bus',num_of_data=1000,output_path='dataset/emergency_vehicles/bus')\n",
        "make_data_of_img(image='fire trucks',num_of_data=1000,output_path='dataset/emergency_vehicles/fire_trucks')\n",
        "make_data_of_img(image='police cars',num_of_data=1000,output_path='dataset/emergency_vehicles/police_cars')\n"
      ],
      "execution_count": null,
      "outputs": [
        {
          "output_type": "stream",
          "text": [
            "[INFO] searching Bing API for 'car'\n"
          ],
          "name": "stdout"
        },
        {
          "output_type": "error",
          "ename": "HTTPError",
          "evalue": "ignored",
          "traceback": [
            "\u001b[0;31m---------------------------------------------------------------------------\u001b[0m",
            "\u001b[0;31mHTTPError\u001b[0m                                 Traceback (most recent call last)",
            "\u001b[0;32m<ipython-input-4-d5b1b9fa7334>\u001b[0m in \u001b[0;36m<module>\u001b[0;34m()\u001b[0m\n\u001b[1;32m      7\u001b[0m \u001b[0mget_ipython\u001b[0m\u001b[0;34m(\u001b[0m\u001b[0;34m)\u001b[0m\u001b[0;34m.\u001b[0m\u001b[0msystem\u001b[0m\u001b[0;34m(\u001b[0m\u001b[0;34m'mkdir dataset/emergency_vehicles/fire_trucks'\u001b[0m\u001b[0;34m)\u001b[0m\u001b[0;34m\u001b[0m\u001b[0;34m\u001b[0m\u001b[0m\n\u001b[1;32m      8\u001b[0m \u001b[0mget_ipython\u001b[0m\u001b[0;34m(\u001b[0m\u001b[0;34m)\u001b[0m\u001b[0;34m.\u001b[0m\u001b[0msystem\u001b[0m\u001b[0;34m(\u001b[0m\u001b[0;34m'mkdir dataset/emergency_vehicles/police_cars'\u001b[0m\u001b[0;34m)\u001b[0m\u001b[0;34m\u001b[0m\u001b[0;34m\u001b[0m\u001b[0m\n\u001b[0;32m----> 9\u001b[0;31m \u001b[0mmake_data_of_img\u001b[0m\u001b[0;34m(\u001b[0m\u001b[0mimage\u001b[0m\u001b[0;34m=\u001b[0m\u001b[0;34m'car'\u001b[0m\u001b[0;34m,\u001b[0m\u001b[0mnum_of_data\u001b[0m\u001b[0;34m=\u001b[0m\u001b[0;36m4000\u001b[0m\u001b[0;34m,\u001b[0m\u001b[0moutput_path\u001b[0m\u001b[0;34m=\u001b[0m\u001b[0;34m'dataset/normal_vehicles'\u001b[0m\u001b[0;34m)\u001b[0m\u001b[0;34m\u001b[0m\u001b[0;34m\u001b[0m\u001b[0m\n\u001b[0m\u001b[1;32m     10\u001b[0m \u001b[0mmake_data_of_img\u001b[0m\u001b[0;34m(\u001b[0m\u001b[0mimage\u001b[0m\u001b[0;34m=\u001b[0m\u001b[0;34m'ambulances'\u001b[0m\u001b[0;34m,\u001b[0m\u001b[0mnum_of_data\u001b[0m\u001b[0;34m=\u001b[0m\u001b[0;36m1000\u001b[0m\u001b[0;34m,\u001b[0m\u001b[0moutput_path\u001b[0m\u001b[0;34m=\u001b[0m\u001b[0;34m'dataset/emergency_vehicles/ambulances'\u001b[0m\u001b[0;34m)\u001b[0m\u001b[0;34m\u001b[0m\u001b[0;34m\u001b[0m\u001b[0m\n\u001b[1;32m     11\u001b[0m \u001b[0mmake_data_of_img\u001b[0m\u001b[0;34m(\u001b[0m\u001b[0mimage\u001b[0m\u001b[0;34m=\u001b[0m\u001b[0;34m'bus'\u001b[0m\u001b[0;34m,\u001b[0m\u001b[0mnum_of_data\u001b[0m\u001b[0;34m=\u001b[0m\u001b[0;36m1000\u001b[0m\u001b[0;34m,\u001b[0m\u001b[0moutput_path\u001b[0m\u001b[0;34m=\u001b[0m\u001b[0;34m'dataset/emergency_vehicles/bus'\u001b[0m\u001b[0;34m)\u001b[0m\u001b[0;34m\u001b[0m\u001b[0;34m\u001b[0m\u001b[0m\n",
            "\u001b[0;32m<ipython-input-3-9cf29c2440ea>\u001b[0m in \u001b[0;36mmake_data_of_img\u001b[0;34m(image, num_of_data, output_path)\u001b[0m\n\u001b[1;32m     34\u001b[0m   \u001b[0mprint\u001b[0m\u001b[0;34m(\u001b[0m\u001b[0;34m\"[INFO] searching Bing API for '{}'\"\u001b[0m\u001b[0;34m.\u001b[0m\u001b[0mformat\u001b[0m\u001b[0;34m(\u001b[0m\u001b[0mterm\u001b[0m\u001b[0;34m)\u001b[0m\u001b[0;34m)\u001b[0m\u001b[0;34m\u001b[0m\u001b[0;34m\u001b[0m\u001b[0m\n\u001b[1;32m     35\u001b[0m   \u001b[0msearch\u001b[0m \u001b[0;34m=\u001b[0m \u001b[0mrequests\u001b[0m\u001b[0;34m.\u001b[0m\u001b[0mget\u001b[0m\u001b[0;34m(\u001b[0m\u001b[0mURL\u001b[0m\u001b[0;34m,\u001b[0m \u001b[0mheaders\u001b[0m\u001b[0;34m=\u001b[0m\u001b[0mheaders\u001b[0m\u001b[0;34m,\u001b[0m \u001b[0mparams\u001b[0m\u001b[0;34m=\u001b[0m\u001b[0mparams\u001b[0m\u001b[0;34m)\u001b[0m\u001b[0;34m\u001b[0m\u001b[0;34m\u001b[0m\u001b[0m\n\u001b[0;32m---> 36\u001b[0;31m   \u001b[0msearch\u001b[0m\u001b[0;34m.\u001b[0m\u001b[0mraise_for_status\u001b[0m\u001b[0;34m(\u001b[0m\u001b[0;34m)\u001b[0m\u001b[0;34m\u001b[0m\u001b[0;34m\u001b[0m\u001b[0m\n\u001b[0m\u001b[1;32m     37\u001b[0m \u001b[0;34m\u001b[0m\u001b[0m\n\u001b[1;32m     38\u001b[0m   \u001b[0;31m# grab the results from the search, including the total number of\u001b[0m\u001b[0;34m\u001b[0m\u001b[0;34m\u001b[0m\u001b[0;34m\u001b[0m\u001b[0m\n",
            "\u001b[0;32m/usr/local/lib/python3.6/dist-packages/requests/models.py\u001b[0m in \u001b[0;36mraise_for_status\u001b[0;34m(self)\u001b[0m\n\u001b[1;32m    938\u001b[0m \u001b[0;34m\u001b[0m\u001b[0m\n\u001b[1;32m    939\u001b[0m         \u001b[0;32mif\u001b[0m \u001b[0mhttp_error_msg\u001b[0m\u001b[0;34m:\u001b[0m\u001b[0;34m\u001b[0m\u001b[0;34m\u001b[0m\u001b[0m\n\u001b[0;32m--> 940\u001b[0;31m             \u001b[0;32mraise\u001b[0m \u001b[0mHTTPError\u001b[0m\u001b[0;34m(\u001b[0m\u001b[0mhttp_error_msg\u001b[0m\u001b[0;34m,\u001b[0m \u001b[0mresponse\u001b[0m\u001b[0;34m=\u001b[0m\u001b[0mself\u001b[0m\u001b[0;34m)\u001b[0m\u001b[0;34m\u001b[0m\u001b[0;34m\u001b[0m\u001b[0m\n\u001b[0m\u001b[1;32m    941\u001b[0m \u001b[0;34m\u001b[0m\u001b[0m\n\u001b[1;32m    942\u001b[0m     \u001b[0;32mdef\u001b[0m \u001b[0mclose\u001b[0m\u001b[0;34m(\u001b[0m\u001b[0mself\u001b[0m\u001b[0;34m)\u001b[0m\u001b[0;34m:\u001b[0m\u001b[0;34m\u001b[0m\u001b[0;34m\u001b[0m\u001b[0m\n",
            "\u001b[0;31mHTTPError\u001b[0m: 401 Client Error: PermissionDenied for url: https://api.cognitive.microsoft.com/bing/v7.0/images/search?q=car&offset=0&count=50"
          ]
        }
      ]
    },
    {
      "cell_type": "code",
      "metadata": {
        "id": "DZRFvx_9Iy2k",
        "colab": {
          "base_uri": "https://localhost:8080/",
          "height": 34
        },
        "outputId": "bbeecba9-e95e-4025-de3d-87796134572a"
      },
      "source": [
        "!cp -r dataset drive/My\\ Drive"
      ],
      "execution_count": null,
      "outputs": [
        {
          "output_type": "stream",
          "text": [
            "cp: cannot create directory 'drive/My Drive': No such file or directory\n"
          ],
          "name": "stdout"
        }
      ]
    },
    {
      "cell_type": "code",
      "metadata": {
        "id": "LI8zIl5yn439",
        "colab": {
          "base_uri": "https://localhost:8080/",
          "height": 121
        },
        "outputId": "25e6939b-27a4-4a20-876b-6c9a094dc377"
      },
      "source": [
        "from google.colab import drive\n",
        "drive.mount('/content/drive')"
      ],
      "execution_count": null,
      "outputs": [
        {
          "output_type": "stream",
          "text": [
            "Go to this URL in a browser: https://accounts.google.com/o/oauth2/auth?client_id=947318989803-6bn6qk8qdgf4n4g3pfee6491hc0brc4i.apps.googleusercontent.com&redirect_uri=urn%3aietf%3awg%3aoauth%3a2.0%3aoob&response_type=code&scope=email%20https%3a%2f%2fwww.googleapis.com%2fauth%2fdocs.test%20https%3a%2f%2fwww.googleapis.com%2fauth%2fdrive%20https%3a%2f%2fwww.googleapis.com%2fauth%2fdrive.photos.readonly%20https%3a%2f%2fwww.googleapis.com%2fauth%2fpeopleapi.readonly\n",
            "\n",
            "Enter your authorization code:\n",
            "··········\n",
            "Mounted at /content/drive\n"
          ],
          "name": "stdout"
        }
      ]
    },
    {
      "cell_type": "code",
      "metadata": {
        "id": "eAqrL-0PEsXB"
      },
      "source": [
        "!rm -rf data\n",
        "!mkdir data\n",
        "!mkdir data/train\n",
        "!mkdir data/train/emergency_vehicles/\n",
        "!mkdir data/train/normal_vehicles/\n",
        "\n",
        "!mkdir data/validation\n",
        "!mkdir data/validation/emergency_vehicles/\n",
        "!mkdir data/validation/normal_vehicles/\n"
      ],
      "execution_count": null,
      "outputs": []
    },
    {
      "cell_type": "code",
      "metadata": {
        "id": "tTPh4hyDmk6k"
      },
      "source": [
        "from shutil import copy\n",
        "import os\n",
        "import random\n",
        "\n",
        "c=0\n",
        "for i in os.listdir('drive/My Drive/dataset/normal_vehicles'):\n",
        "    if (c==500):\n",
        "        break\n",
        "    f = os.path.join('drive/My Drive/dataset/normal_vehicles',i)\n",
        "    if (f.split('.')[-1]=='jpg'):\n",
        "        # print(f)\n",
        "        c+=1\n",
        "        if (random.randint(0,9)<=7):\n",
        "            copy(f, '/content/data/train/normal_vehicles/')\n",
        "        else:\n",
        "            copy(f, '/content/data/validation/normal_vehicles/')\n",
        "\n",
        "\n",
        "c=0\n",
        "for i in os.listdir('drive/My Drive/dataset/emergency_vehicles/ambulances'):\n",
        "    if (c==125):\n",
        "        break\n",
        "    f = os.path.join('drive/My Drive/dataset/emergency_vehicles/ambulances',i)\n",
        "    if (f.split('.')[-1]=='jpg'):\n",
        "        # print(f)\n",
        "        c+=1\n",
        "        if (random.randint(0,9)<=7):\n",
        "            copy(f, '/content/data/train/emergency_vehicles/')\n",
        "        else:\n",
        "            copy(f, '/content/data/validation/emergency_vehicles/')\n",
        "\n",
        "\n",
        "\n",
        "\n",
        "c=0\n",
        "for i in os.listdir('drive/My Drive/dataset/emergency_vehicles/bus'):\n",
        "    if (c==125):\n",
        "        break\n",
        "    f = os.path.join('drive/My Drive/dataset/emergency_vehicles/bus',i)\n",
        "    if (f.split('.')[-1]=='jpg'):\n",
        "        # print(f)\n",
        "        c+=1\n",
        "        if (random.randint(0,9)<=7):\n",
        "            copy(f, '/content/data/train/emergency_vehicles/')\n",
        "        else:\n",
        "            copy(f, '/content/data/validation/emergency_vehicles/')\n",
        "\n",
        "\n",
        "c=0\n",
        "for i in os.listdir('drive/My Drive/dataset/emergency_vehicles/fire_trucks'):\n",
        "    if (c==125):\n",
        "        break\n",
        "    f = os.path.join('drive/My Drive/dataset/emergency_vehicles/fire_trucks',i)\n",
        "    if (f.split('.')[-1]=='jpg'):\n",
        "        # print(f)\n",
        "        c+=1\n",
        "        if (random.randint(0,9)<=7):\n",
        "            copy(f, '/content/data/train/emergency_vehicles/')\n",
        "        else:\n",
        "            copy(f, '/content/data/validation/emergency_vehicles/')\n",
        "\n",
        "\n",
        "\n",
        "c=0\n",
        "for i in os.listdir('drive/My Drive/dataset/emergency_vehicles/police_cars'):\n",
        "    if (c==125):\n",
        "        break\n",
        "    f = os.path.join('drive/My Drive/dataset/emergency_vehicles/police_cars',i)\n",
        "    if (f.split('.')[-1]=='jpg'):\n",
        "        # print(f)\n",
        "        c+=1\n",
        "        if (random.randint(0,9)<=7):\n",
        "            copy(f, '/content/data/train/emergency_vehicles/')\n",
        "        else:\n",
        "            copy(f, '/content/data/validation/emergency_vehicles/')"
      ],
      "execution_count": null,
      "outputs": []
    },
    {
      "cell_type": "markdown",
      "metadata": {
        "button": false,
        "id": "Ob0fG9c9ws5w",
        "new_sheet": false,
        "run_control": {
          "read_only": false
        }
      },
      "source": [
        "In order to build our deep learning image dataset, we are going to utilize Microsoft’s Bing Image Search API, which is part of Microsoft’s Cognitive Services used to bring AI to vision, speech, text, and more to apps and software.  \n",
        "\n",
        "I did not want to have to open my browser or utilize browser extensions to download the image files from my search.\n",
        "\n",
        "First i registered into Microsoft’s Cognitive Services and got API keys and end points then i installed request library.\n",
        "The requests  package makes it super easy for us to make HTTP requests and not get bogged down in fighting with Python to gracefully handle requests.\n",
        "\n",
        "The one part of this script that you must modify is the API_KEY . You can grab an API key by logging into Microsoft Cognitive Services and selecting the service you’d like to use (as shown above where you need to click the “Get API Key” button). From there, simply paste the API key within the quotes for this variable.\n",
        "\n",
        "You can also modify MAX_RESULTS  and GROUP_SIZE  for your search. Here, I’m limiting my results to the first 4000  images for each class and returning the maximum number of images per request by the Bing API ( 50  total images).\n",
        "\n",
        "Then we’re going to loop over the current batch of image address and attempt to download each individual image to our output folder.\n",
        "\n",
        "We establish a try-catch block so that we can catch the possible EXCEPTIONS  which we defined earlier in the script. If we encounter an exception we’ll be skipping that particular image and moving forward\n",
        "\n",
        "We then try to open and write the file to disk.\n",
        "\n",
        "\n",
        "REF:https://www.pyimagesearch.com/2018/04/09/how-to-quickly-build-a-deep-learning-image-dataset/\n"
      ]
    },
    {
      "cell_type": "markdown",
      "metadata": {
        "id": "otcIUS2gUwls"
      },
      "source": [
        "### Implementation\n",
        "---\n",
        "You can use from Keras in this assignment.\n",
        "\n",
        "Preprocess your data in this cell."
      ]
    },
    {
      "cell_type": "code",
      "metadata": {
        "id": "fwi-sxIHWC5A",
        "colab": {
          "base_uri": "https://localhost:8080/",
          "height": 80
        },
        "outputId": "bb7745f7-45eb-4d50-ae4f-f14f249d6015"
      },
      "source": [
        "from keras.layers import Activation, Input, Dropout,Flatten\n",
        "from keras.layers import Dense\n",
        "from keras.models import Model\n",
        "from keras.optimizers import Adam\n",
        "from keras import backend as K\n",
        "from random import shuffle \n",
        "from keras.preprocessing.image import ImageDataGenerator\n",
        "from keras.models import Sequential\n",
        "from keras.layers import Conv2D, MaxPooling2D\n",
        "from keras.callbacks import ModelCheckpoint\n",
        "import matplotlib as plt\n",
        "\n",
        "\n",
        "\n",
        "def recall(y_true, y_pred):\n",
        "    \"\"\"\n",
        "    Recall metric.\n",
        "\n",
        "    Only computes a batch-wise average of recall.\n",
        "\n",
        "    Computes the recall, a metric for multi-label classification of\n",
        "    how many relevant items are selected.\n",
        "    \"\"\"\n",
        "    true_positives = K.sum(K.round(K.clip(y_true * y_pred, 0, 1)))\n",
        "    possible_positives = K.sum(K.round(K.clip(y_true, 0, 1)))\n",
        "    recall = true_positives / (possible_positives + K.epsilon())\n",
        "    return recall\n",
        "\n",
        "\n",
        "def precision(y_true, y_pred):\n",
        "    \"\"\"\n",
        "    Precision metric.\n",
        "\n",
        "    Only computes a batch-wise average of precision.\n",
        "\n",
        "    Computes the precision, a metric for multi-label classification of\n",
        "    how many selected items are relevant.\n",
        "\n",
        "    Source\n",
        "    ------\n",
        "    https://github.com/fchollet/keras/issues/5400#issuecomment-314747992\n",
        "    \"\"\"\n",
        "    true_positives = K.sum(K.round(K.clip(y_true * y_pred, 0, 1)))\n",
        "    predicted_positives = K.sum(K.round(K.clip(y_pred, 0, 1)))\n",
        "    precision = true_positives / (predicted_positives + K.epsilon())\n",
        "    return precision\n",
        "\n",
        "\n",
        "def f1(y_true, y_pred):\n",
        "    \"\"\"Calculate the F1 score.\"\"\"\n",
        "    p = precision(y_true, y_pred)\n",
        "    r = recall(y_true, y_pred)\n",
        "    return 2 * ((p * r) / (p + r))\n",
        "\n",
        "\n",
        "\n",
        "img_width, img_height = 150, 150\n",
        "\n",
        "train_data_dir = 'data/train'\n",
        "validation_data_dir = 'data/validation'\n",
        "nb_train_samples = len(os.listdir('data/train/emergency_vehicles'))+len(os.listdir('data/train/normal_vehicles'))\n",
        "nb_validation_samples = len(os.listdir('data/validation/emergency_vehicles'))+len(os.listdir('data/validation/normal_vehicles'))\n",
        "epochs = 10\n",
        "batch_size = 16\n",
        "\n",
        "if K.image_data_format() == 'channels_first':\n",
        "    input_shape = (3, img_width, img_height)\n",
        "else:\n",
        "    input_shape = (img_width, img_height, 3)\n",
        "\n",
        "save_dir = os.path.join(os.getcwd(), 'asg02')\n",
        "model_name = 'HW2.{epoch:03d}.h5'\n",
        "\n",
        "filepath = os.path.join(save_dir, model_name)\n"
      ],
      "execution_count": null,
      "outputs": [
        {
          "output_type": "stream",
          "text": [
            "Using TensorFlow backend.\n"
          ],
          "name": "stderr"
        },
        {
          "output_type": "display_data",
          "data": {
            "text/html": [
              "<p style=\"color: red;\">\n",
              "The default version of TensorFlow in Colab will soon switch to TensorFlow 2.x.<br>\n",
              "We recommend you <a href=\"https://www.tensorflow.org/guide/migrate\" target=\"_blank\">upgrade</a> now \n",
              "or ensure your notebook will continue to use TensorFlow 1.x via the <code>%tensorflow_version 1.x</code> magic:\n",
              "<a href=\"https://colab.research.google.com/notebooks/tensorflow_version.ipynb\" target=\"_blank\">more info</a>.</p>\n"
            ],
            "text/plain": [
              "<IPython.core.display.HTML object>"
            ]
          },
          "metadata": {
            "tags": []
          }
        }
      ]
    },
    {
      "cell_type": "markdown",
      "metadata": {
        "id": "ELbn6xT1Yj99"
      },
      "source": [
        "Build and train your model in the following cell.\n",
        "\n",
        "Use generator and augmentation in order to feed data to the network."
      ]
    },
    {
      "cell_type": "code",
      "metadata": {
        "id": "0jmcF4NnYj9-",
        "colab": {
          "base_uri": "https://localhost:8080/",
          "height": 1000
        },
        "outputId": "a302d7b2-c277-47c7-c2f5-b23b6c041321"
      },
      "source": [
        "\n",
        "\n",
        "checkpoint = ModelCheckpoint(filepath=filepath,\n",
        "                             monitor='val_acc',\n",
        "                             verbose=1,\n",
        "                             save_best_only=True)\n",
        "\n",
        "callbacks = [checkpoint]\n",
        "\n",
        "model = Sequential()\n",
        "model.add(Conv2D(32, (5, 5), padding='same',\n",
        "                 input_shape=input_shape))\n",
        "model.add(Activation('relu'))\n",
        "model.add(Conv2D(32, (5, 5)))\n",
        "model.add(Activation('relu'))\n",
        "model.add(MaxPooling2D(pool_size=(2, 2)))\n",
        "model.add(Dropout(0.25))\n",
        "\n",
        "model.add(Conv2D(64, (5, 5), padding='same'))\n",
        "model.add(Activation('relu'))\n",
        "model.add(Conv2D(64, (5, 5)))\n",
        "model.add(Activation('relu'))\n",
        "model.add(MaxPooling2D(pool_size=(2, 2)))\n",
        "model.add(Dropout(0.25))\n",
        "\n",
        "model.add(Flatten())\n",
        "model.add(Dense(512))\n",
        "model.add(Activation('relu'))\n",
        "model.add(Dense(256))\n",
        "model.add(Activation('relu'))\n",
        "model.add(Dense(64))\n",
        "model.add(Activation('relu'))\n",
        "model.add(Dropout(0.5))\n",
        "model.add(Dense(1))\n",
        "model.add(Activation('sigmoid'))\n",
        "\n",
        "model.compile(loss='binary_crossentropy',\n",
        "              optimizer='rmsprop',\n",
        "              metrics=[\"accuracy\",f1,recall,precision])\n",
        "\n",
        "print(model.summary())"
      ],
      "execution_count": null,
      "outputs": [
        {
          "output_type": "stream",
          "text": [
            "WARNING:tensorflow:From /usr/local/lib/python3.6/dist-packages/keras/backend/tensorflow_backend.py:66: The name tf.get_default_graph is deprecated. Please use tf.compat.v1.get_default_graph instead.\n",
            "\n",
            "WARNING:tensorflow:From /usr/local/lib/python3.6/dist-packages/keras/backend/tensorflow_backend.py:541: The name tf.placeholder is deprecated. Please use tf.compat.v1.placeholder instead.\n",
            "\n",
            "WARNING:tensorflow:From /usr/local/lib/python3.6/dist-packages/keras/backend/tensorflow_backend.py:4432: The name tf.random_uniform is deprecated. Please use tf.random.uniform instead.\n",
            "\n",
            "WARNING:tensorflow:From /usr/local/lib/python3.6/dist-packages/keras/backend/tensorflow_backend.py:4267: The name tf.nn.max_pool is deprecated. Please use tf.nn.max_pool2d instead.\n",
            "\n",
            "WARNING:tensorflow:From /usr/local/lib/python3.6/dist-packages/keras/backend/tensorflow_backend.py:148: The name tf.placeholder_with_default is deprecated. Please use tf.compat.v1.placeholder_with_default instead.\n",
            "\n",
            "WARNING:tensorflow:From /usr/local/lib/python3.6/dist-packages/keras/backend/tensorflow_backend.py:3733: calling dropout (from tensorflow.python.ops.nn_ops) with keep_prob is deprecated and will be removed in a future version.\n",
            "Instructions for updating:\n",
            "Please use `rate` instead of `keep_prob`. Rate should be set to `rate = 1 - keep_prob`.\n",
            "WARNING:tensorflow:From /usr/local/lib/python3.6/dist-packages/keras/optimizers.py:793: The name tf.train.Optimizer is deprecated. Please use tf.compat.v1.train.Optimizer instead.\n",
            "\n",
            "WARNING:tensorflow:From /usr/local/lib/python3.6/dist-packages/keras/backend/tensorflow_backend.py:3657: The name tf.log is deprecated. Please use tf.math.log instead.\n",
            "\n",
            "WARNING:tensorflow:From /usr/local/lib/python3.6/dist-packages/tensorflow_core/python/ops/nn_impl.py:183: where (from tensorflow.python.ops.array_ops) is deprecated and will be removed in a future version.\n",
            "Instructions for updating:\n",
            "Use tf.where in 2.0, which has the same broadcast rule as np.where\n",
            "Model: \"sequential_1\"\n",
            "_________________________________________________________________\n",
            "Layer (type)                 Output Shape              Param #   \n",
            "=================================================================\n",
            "conv2d_1 (Conv2D)            (None, 150, 150, 32)      2432      \n",
            "_________________________________________________________________\n",
            "activation_1 (Activation)    (None, 150, 150, 32)      0         \n",
            "_________________________________________________________________\n",
            "conv2d_2 (Conv2D)            (None, 146, 146, 32)      25632     \n",
            "_________________________________________________________________\n",
            "activation_2 (Activation)    (None, 146, 146, 32)      0         \n",
            "_________________________________________________________________\n",
            "max_pooling2d_1 (MaxPooling2 (None, 73, 73, 32)        0         \n",
            "_________________________________________________________________\n",
            "dropout_1 (Dropout)          (None, 73, 73, 32)        0         \n",
            "_________________________________________________________________\n",
            "conv2d_3 (Conv2D)            (None, 73, 73, 64)        51264     \n",
            "_________________________________________________________________\n",
            "activation_3 (Activation)    (None, 73, 73, 64)        0         \n",
            "_________________________________________________________________\n",
            "conv2d_4 (Conv2D)            (None, 69, 69, 64)        102464    \n",
            "_________________________________________________________________\n",
            "activation_4 (Activation)    (None, 69, 69, 64)        0         \n",
            "_________________________________________________________________\n",
            "max_pooling2d_2 (MaxPooling2 (None, 34, 34, 64)        0         \n",
            "_________________________________________________________________\n",
            "dropout_2 (Dropout)          (None, 34, 34, 64)        0         \n",
            "_________________________________________________________________\n",
            "flatten_1 (Flatten)          (None, 73984)             0         \n",
            "_________________________________________________________________\n",
            "dense_1 (Dense)              (None, 512)               37880320  \n",
            "_________________________________________________________________\n",
            "activation_5 (Activation)    (None, 512)               0         \n",
            "_________________________________________________________________\n",
            "dense_2 (Dense)              (None, 256)               131328    \n",
            "_________________________________________________________________\n",
            "activation_6 (Activation)    (None, 256)               0         \n",
            "_________________________________________________________________\n",
            "dense_3 (Dense)              (None, 64)                16448     \n",
            "_________________________________________________________________\n",
            "activation_7 (Activation)    (None, 64)                0         \n",
            "_________________________________________________________________\n",
            "dropout_3 (Dropout)          (None, 64)                0         \n",
            "_________________________________________________________________\n",
            "dense_4 (Dense)              (None, 1)                 65        \n",
            "_________________________________________________________________\n",
            "activation_8 (Activation)    (None, 1)                 0         \n",
            "=================================================================\n",
            "Total params: 38,209,953\n",
            "Trainable params: 38,209,953\n",
            "Non-trainable params: 0\n",
            "_________________________________________________________________\n",
            "None\n"
          ],
          "name": "stdout"
        }
      ]
    },
    {
      "cell_type": "markdown",
      "metadata": {
        "id": "KGfZ4m8vYj-A"
      },
      "source": [
        "Now, test your model, report the f1-score, recall and precision, and then save the model in a file with path 'ASSIGNMENT_PATH / 'my_model.h5''.\n",
        "\n",
        "Plot loss and accuracy."
      ]
    },
    {
      "cell_type": "code",
      "metadata": {
        "id": "_tAPg7gHYj-B",
        "colab": {
          "base_uri": "https://localhost:8080/",
          "height": 683
        },
        "outputId": "d6842307-8c2b-47fb-eec9-314fbb4ed1d3"
      },
      "source": [
        "train_datagen = ImageDataGenerator(\n",
        "    rescale=1. / 255,\n",
        "    shear_range=0.2,\n",
        "    zoom_range=0.2,\n",
        "    horizontal_flip=True)\n",
        "\n",
        "test_datagen = ImageDataGenerator(rescale=1. / 255)\n",
        "\n",
        "train_generator = train_datagen.flow_from_directory(\n",
        "    train_data_dir,\n",
        "    target_size=(img_width, img_height),\n",
        "    batch_size=batch_size,\n",
        "    class_mode='binary')\n",
        "\n",
        "validation_generator = test_datagen.flow_from_directory(\n",
        "    validation_data_dir,\n",
        "    target_size=(img_width, img_height),\n",
        "    batch_size=batch_size,\n",
        "    class_mode='binary')\n",
        "\n",
        "history = model.fit_generator(\n",
        "    train_generator,\n",
        "    steps_per_epoch=nb_train_samples // batch_size,\n",
        "    epochs=epochs,\n",
        "    validation_data=validation_generator,\n",
        "    validation_steps=nb_validation_samples // batch_size)\n",
        "\n",
        "\n"
      ],
      "execution_count": null,
      "outputs": [
        {
          "output_type": "stream",
          "text": [
            "Found 470 images belonging to 2 classes.\n",
            "Found 142 images belonging to 2 classes.\n",
            "WARNING:tensorflow:From /usr/local/lib/python3.6/dist-packages/keras/backend/tensorflow_backend.py:1033: The name tf.assign_add is deprecated. Please use tf.compat.v1.assign_add instead.\n",
            "\n",
            "WARNING:tensorflow:From /usr/local/lib/python3.6/dist-packages/keras/backend/tensorflow_backend.py:1020: The name tf.assign is deprecated. Please use tf.compat.v1.assign instead.\n",
            "\n",
            "WARNING:tensorflow:From /usr/local/lib/python3.6/dist-packages/keras/backend/tensorflow_backend.py:3005: The name tf.Session is deprecated. Please use tf.compat.v1.Session instead.\n",
            "\n",
            "Epoch 1/10\n",
            "WARNING:tensorflow:From /usr/local/lib/python3.6/dist-packages/keras/backend/tensorflow_backend.py:190: The name tf.get_default_session is deprecated. Please use tf.compat.v1.get_default_session instead.\n",
            "\n",
            "WARNING:tensorflow:From /usr/local/lib/python3.6/dist-packages/keras/backend/tensorflow_backend.py:197: The name tf.ConfigProto is deprecated. Please use tf.compat.v1.ConfigProto instead.\n",
            "\n",
            "WARNING:tensorflow:From /usr/local/lib/python3.6/dist-packages/keras/backend/tensorflow_backend.py:207: The name tf.global_variables is deprecated. Please use tf.compat.v1.global_variables instead.\n",
            "\n",
            "WARNING:tensorflow:From /usr/local/lib/python3.6/dist-packages/keras/backend/tensorflow_backend.py:216: The name tf.is_variable_initialized is deprecated. Please use tf.compat.v1.is_variable_initialized instead.\n",
            "\n",
            "WARNING:tensorflow:From /usr/local/lib/python3.6/dist-packages/keras/backend/tensorflow_backend.py:223: The name tf.variables_initializer is deprecated. Please use tf.compat.v1.variables_initializer instead.\n",
            "\n",
            "29/29 [==============================] - 25s 860ms/step - loss: 5.0304 - acc: 0.6730 - f1: 0.7972 - recall: 0.9867 - precision: 0.6821 - val_loss: 8.8430 - val_acc: 0.4453 - val_f1: 0.6087 - val_recall: 1.0000 - val_precision: 0.4453\n",
            "Epoch 2/10\n",
            "29/29 [==============================] - 25s 861ms/step - loss: 5.3790 - acc: 0.6626 - f1: 0.7876 - recall: 1.0000 - precision: 0.6626 - val_loss: 8.7304 - val_acc: 0.4524 - val_f1: 0.6156 - val_recall: 1.0000 - val_precision: 0.4524\n",
            "Epoch 3/10\n",
            "29/29 [==============================] - 23s 800ms/step - loss: 5.2959 - acc: 0.6682 - f1: 0.7906 - recall: 0.9484 - precision: 0.6890 - val_loss: 7.9712 - val_acc: 0.5000 - val_f1: 0.6601 - val_recall: 1.0000 - val_precision: 0.5000\n",
            "Epoch 4/10\n",
            "29/29 [==============================] - 23s 808ms/step - loss: 5.5691 - acc: 0.6510 - f1: 0.7809 - recall: 0.9602 - precision: 0.6668 - val_loss: 9.3630 - val_acc: 0.4127 - val_f1: 0.5708 - val_recall: 1.0000 - val_precision: 0.4127\n",
            "Epoch 5/10\n",
            "29/29 [==============================] - 21s 724ms/step - loss: 5.4175 - acc: 0.6604 - f1: 0.7827 - recall: 0.9661 - precision: 0.6716 - val_loss: 9.1099 - val_acc: 0.4286 - val_f1: 0.5717 - val_recall: 1.0000 - val_precision: 0.4286\n",
            "Epoch 6/10\n",
            "29/29 [==============================] - 22s 749ms/step - loss: 5.1575 - acc: 0.6760 - f1: 0.7976 - recall: 0.9703 - precision: 0.6836 - val_loss: 8.9834 - val_acc: 0.4365 - val_f1: 0.5972 - val_recall: 1.0000 - val_precision: 0.4365\n",
            "Epoch 7/10\n",
            "29/29 [==============================] - 22s 755ms/step - loss: 5.1923 - acc: 0.6743 - f1: 0.7965 - recall: 0.9969 - precision: 0.6758 - val_loss: 8.0977 - val_acc: 0.4921 - val_f1: 0.6498 - val_recall: 1.0000 - val_precision: 0.4921\n",
            "Epoch 8/10\n",
            "29/29 [==============================] - 22s 753ms/step - loss: 5.0164 - acc: 0.6853 - f1: 0.8075 - recall: 1.0000 - precision: 0.6853 - val_loss: 8.6038 - val_acc: 0.4603 - val_f1: 0.6193 - val_recall: 1.0000 - val_precision: 0.4603\n",
            "Epoch 9/10\n",
            "29/29 [==============================] - 20s 699ms/step - loss: 5.1211 - acc: 0.6788 - f1: 0.8047 - recall: 1.0000 - precision: 0.6788 - val_loss: 9.1099 - val_acc: 0.4286 - val_f1: 0.5828 - val_recall: 1.0000 - val_precision: 0.4286\n",
            "Epoch 10/10\n",
            "29/29 [==============================] - 24s 840ms/step - loss: 5.0171 - acc: 0.6853 - f1: 0.8096 - recall: 0.9940 - precision: 0.6884 - val_loss: 8.3448 - val_acc: 0.4766 - val_f1: 0.6417 - val_recall: 1.0000 - val_precision: 0.4766\n"
          ],
          "name": "stdout"
        }
      ]
    },
    {
      "cell_type": "code",
      "metadata": {
        "id": "-vsZla4CHlMF",
        "colab": {
          "base_uri": "https://localhost:8080/",
          "height": 1000
        },
        "outputId": "172ded59-ba09-40e3-b8e8-6d6a1ed50c8e"
      },
      "source": [
        "from keras import applications\n",
        "from keras.preprocessing.image import ImageDataGenerator\n",
        "from keras import optimizers\n",
        "from keras.models import Sequential\n",
        "from keras.layers import Dropout, Flatten, Dense\n",
        "\n",
        "\n",
        "\n",
        "img_width, img_height = 150, 150\n",
        "\n",
        "train_data_dir = 'data/train'\n",
        "validation_data_dir = 'data/validation'\n",
        "nb_train_samples = len(os.listdir('data/train/emergency_vehicles'))+len(os.listdir('data/train/normal_vehicles'))\n",
        "nb_validation_samples = len(os.listdir('data/validation/emergency_vehicles'))+len(os.listdir('data/validation/normal_vehicles'))\n",
        "epochs = 10\n",
        "batch_size = 16\n",
        "\n",
        "\n",
        "# build the VGG16 network\n",
        "m = applications.VGG16(weights='imagenet', include_top=False, input_shape=input_shape)\n",
        "print('Model loaded.')\n",
        "print(m.summary())\n",
        "# build a classifier model to put on top of the convolutional model\n",
        "top_model = Sequential()\n",
        "top_model.add(Flatten())\n",
        "top_model.add(Dense(256, activation='relu'))\n",
        "top_model.add(Dropout(0.5))\n",
        "top_model.add(Dense(1, activation='sigmoid'))\n",
        "\n",
        "model = Sequential()\n",
        "model.add(m)\n",
        "\n",
        "model.add(top_model)\n",
        "\n",
        "\n",
        "for layer in model.layers[:25]:\n",
        "    layer.trainable = True\n",
        "\n",
        "\n",
        "model.compile(loss='binary_crossentropy',\n",
        "              optimizer=optimizers.SGD(lr=1e-4, momentum=0.9),\n",
        "              metrics=[\"accuracy\",f1,recall,precision])\n",
        "print(model.summary())\n",
        "\n",
        "\n",
        "train_datagen = ImageDataGenerator(\n",
        "    rescale=1. / 255,\n",
        "    shear_range=0.2,\n",
        "    zoom_range=0.2,\n",
        "    horizontal_flip=True)\n",
        "\n",
        "test_datagen = ImageDataGenerator(rescale=1. / 255)\n",
        "\n",
        "train_generator = train_datagen.flow_from_directory(\n",
        "    train_data_dir,\n",
        "    target_size=(img_height, img_width),\n",
        "    batch_size=batch_size,\n",
        "    class_mode='binary')\n",
        "\n",
        "validation_generator = test_datagen.flow_from_directory(\n",
        "    validation_data_dir,\n",
        "    target_size=(img_height, img_width),\n",
        "    batch_size=batch_size,\n",
        "    class_mode='binary')\n",
        "\n",
        "history = model.fit_generator(\n",
        "    train_generator,\n",
        "    callbacks=callbacks,\n",
        "    steps_per_epoch=nb_train_samples // batch_size,\n",
        "    epochs=epochs,\n",
        "    validation_data=validation_generator,\n",
        "    validation_steps=nb_validation_samples // batch_size)"
      ],
      "execution_count": null,
      "outputs": [
        {
          "output_type": "stream",
          "text": [
            "Model loaded.\n",
            "Model: \"vgg16\"\n",
            "_________________________________________________________________\n",
            "Layer (type)                 Output Shape              Param #   \n",
            "=================================================================\n",
            "input_1 (InputLayer)         (None, 150, 150, 3)       0         \n",
            "_________________________________________________________________\n",
            "block1_conv1 (Conv2D)        (None, 150, 150, 64)      1792      \n",
            "_________________________________________________________________\n",
            "block1_conv2 (Conv2D)        (None, 150, 150, 64)      36928     \n",
            "_________________________________________________________________\n",
            "block1_pool (MaxPooling2D)   (None, 75, 75, 64)        0         \n",
            "_________________________________________________________________\n",
            "block2_conv1 (Conv2D)        (None, 75, 75, 128)       73856     \n",
            "_________________________________________________________________\n",
            "block2_conv2 (Conv2D)        (None, 75, 75, 128)       147584    \n",
            "_________________________________________________________________\n",
            "block2_pool (MaxPooling2D)   (None, 37, 37, 128)       0         \n",
            "_________________________________________________________________\n",
            "block3_conv1 (Conv2D)        (None, 37, 37, 256)       295168    \n",
            "_________________________________________________________________\n",
            "block3_conv2 (Conv2D)        (None, 37, 37, 256)       590080    \n",
            "_________________________________________________________________\n",
            "block3_conv3 (Conv2D)        (None, 37, 37, 256)       590080    \n",
            "_________________________________________________________________\n",
            "block3_pool (MaxPooling2D)   (None, 18, 18, 256)       0         \n",
            "_________________________________________________________________\n",
            "block4_conv1 (Conv2D)        (None, 18, 18, 512)       1180160   \n",
            "_________________________________________________________________\n",
            "block4_conv2 (Conv2D)        (None, 18, 18, 512)       2359808   \n",
            "_________________________________________________________________\n",
            "block4_conv3 (Conv2D)        (None, 18, 18, 512)       2359808   \n",
            "_________________________________________________________________\n",
            "block4_pool (MaxPooling2D)   (None, 9, 9, 512)         0         \n",
            "_________________________________________________________________\n",
            "block5_conv1 (Conv2D)        (None, 9, 9, 512)         2359808   \n",
            "_________________________________________________________________\n",
            "block5_conv2 (Conv2D)        (None, 9, 9, 512)         2359808   \n",
            "_________________________________________________________________\n",
            "block5_conv3 (Conv2D)        (None, 9, 9, 512)         2359808   \n",
            "_________________________________________________________________\n",
            "block5_pool (MaxPooling2D)   (None, 4, 4, 512)         0         \n",
            "=================================================================\n",
            "Total params: 14,714,688\n",
            "Trainable params: 14,714,688\n",
            "Non-trainable params: 0\n",
            "_________________________________________________________________\n",
            "None\n",
            "Model: \"sequential_3\"\n",
            "_________________________________________________________________\n",
            "Layer (type)                 Output Shape              Param #   \n",
            "=================================================================\n",
            "vgg16 (Model)                (None, 4, 4, 512)         14714688  \n",
            "_________________________________________________________________\n",
            "sequential_2 (Sequential)    (None, 1)                 2097665   \n",
            "=================================================================\n",
            "Total params: 16,812,353\n",
            "Trainable params: 16,812,353\n",
            "Non-trainable params: 0\n",
            "_________________________________________________________________\n",
            "None\n",
            "Found 470 images belonging to 2 classes.\n",
            "Found 142 images belonging to 2 classes.\n",
            "Epoch 1/10\n",
            "29/29 [==============================] - 26s 889ms/step - loss: 0.7042 - acc: 0.6135 - f1: 0.7335 - recall: 0.8212 - precision: 0.6846 - val_loss: 0.7032 - val_acc: 0.5234 - val_f1: 0.6637 - val_recall: 1.0000 - val_precision: 0.5077\n",
            "\n",
            "Epoch 00001: val_acc improved from -inf to 0.52344, saving model to /content/asg02/HW2.001.h5\n",
            "Epoch 2/10\n",
            "29/29 [==============================] - 24s 837ms/step - loss: 0.5963 - acc: 0.6976 - f1: 0.7847 - recall: 0.8549 - precision: 0.7404 - val_loss: 0.6789 - val_acc: 0.5794 - val_f1: 0.6371 - val_recall: 1.0000 - val_precision: 0.4829\n",
            "\n",
            "Epoch 00002: val_acc improved from 0.52344 to 0.57937, saving model to /content/asg02/HW2.002.h5\n",
            "Epoch 3/10\n",
            "29/29 [==============================] - 24s 827ms/step - loss: 0.4640 - acc: 0.7981 - f1: 0.8580 - recall: 0.9429 - precision: 0.8001 - val_loss: 0.4347 - val_acc: 0.8333 - val_f1: 0.8484 - val_recall: 0.9718 - val_precision: 0.7562\n",
            "\n",
            "Epoch 00003: val_acc improved from 0.57937 to 0.83333, saving model to /content/asg02/HW2.003.h5\n",
            "Epoch 4/10\n",
            "29/29 [==============================] - 24s 817ms/step - loss: 0.3981 - acc: 0.8326 - f1: 0.8775 - recall: 0.9156 - precision: 0.8584 - val_loss: 0.4331 - val_acc: 0.8175 - val_f1: 0.8264 - val_recall: 1.0000 - val_precision: 0.7177\n",
            "\n",
            "Epoch 00004: val_acc did not improve from 0.83333\n",
            "Epoch 5/10\n",
            "29/29 [==============================] - 22s 752ms/step - loss: 0.3132 - acc: 0.8728 - f1: 0.9081 - recall: 0.9545 - precision: 0.8741 - val_loss: 0.3596 - val_acc: 0.8730 - val_f1: 0.8257 - val_recall: 0.7386 - val_precision: 0.9577\n",
            "\n",
            "Epoch 00005: val_acc improved from 0.83333 to 0.87302, saving model to /content/asg02/HW2.005.h5\n",
            "Epoch 6/10\n",
            "29/29 [==============================] - 23s 783ms/step - loss: 0.3067 - acc: 0.8792 - f1: 0.9086 - recall: 0.9310 - precision: 0.8985 - val_loss: 0.4946 - val_acc: 0.7778 - val_f1: 0.8113 - val_recall: 1.0000 - val_precision: 0.6961\n",
            "\n",
            "Epoch 00006: val_acc did not improve from 0.87302\n",
            "Epoch 7/10\n",
            "29/29 [==============================] - 23s 779ms/step - loss: 0.3167 - acc: 0.8714 - f1: 0.9003 - recall: 0.9406 - precision: 0.8810 - val_loss: 0.2578 - val_acc: 0.8810 - val_f1: 0.8448 - val_recall: 0.8132 - val_precision: 0.8844\n",
            "\n",
            "Epoch 00007: val_acc improved from 0.87302 to 0.88095, saving model to /content/asg02/HW2.007.h5\n",
            "Epoch 8/10\n",
            "29/29 [==============================] - 21s 735ms/step - loss: 0.2044 - acc: 0.9332 - f1: 0.9497 - recall: 0.9681 - precision: 0.9370 - val_loss: 0.3034 - val_acc: 0.8810 - val_f1: 0.8584 - val_recall: 0.9841 - val_precision: 0.7821\n",
            "\n",
            "Epoch 00008: val_acc did not improve from 0.88095\n",
            "Epoch 9/10\n",
            "29/29 [==============================] - 21s 728ms/step - loss: 0.2031 - acc: 0.9210 - f1: 0.9340 - recall: 0.9565 - precision: 0.9190 - val_loss: 0.2518 - val_acc: 0.8968 - val_f1: 0.8591 - val_recall: 0.8535 - val_precision: 0.8889\n",
            "\n",
            "Epoch 00009: val_acc improved from 0.88095 to 0.89683, saving model to /content/asg02/HW2.009.h5\n",
            "Epoch 10/10\n",
            "29/29 [==============================] - 24s 814ms/step - loss: 0.1756 - acc: 0.9353 - f1: 0.9495 - recall: 0.9485 - precision: 0.9566 - val_loss: 0.2976 - val_acc: 0.8906 - val_f1: 0.8831 - val_recall: 0.9750 - val_precision: 0.8144\n",
            "\n",
            "Epoch 00010: val_acc did not improve from 0.89683\n"
          ],
          "name": "stdout"
        }
      ]
    },
    {
      "cell_type": "code",
      "metadata": {
        "id": "yzZJtwpO7e0B",
        "colab": {
          "base_uri": "https://localhost:8080/",
          "height": 573
        },
        "outputId": "57ee8fdb-ba39-4d4b-d99c-f6f7d338bcf5"
      },
      "source": [
        "import matplotlib.pyplot as plt \n",
        "\n",
        "\n",
        "plt.plot(history.history['acc'])\n",
        "plt.plot(history.history['val_acc'])\n",
        "plt.title('model accuracy')\n",
        "plt.ylabel('accuracy')\n",
        "plt.xlabel('epoch')\n",
        "plt.legend(['train', 'validation'], loc='upper left')\n",
        "plt.show()\n",
        "plt.plot(history.history['loss'])\n",
        "plt.plot(history.history['val_loss'])\n",
        "plt.title('model loss')\n",
        "plt.ylabel('loss')\n",
        "plt.xlabel('epoch')\n",
        "plt.legend(['train', 'validation'], loc='upper left')\n",
        "plt.show()"
      ],
      "execution_count": null,
      "outputs": [
        {
          "output_type": "display_data",
          "data": {
            "image/png": "[encoded data removed]",
            "text/plain": [
              "<Figure size 432x288 with 1 Axes>"
            ]
          },
          "metadata": {
            "tags": []
          }
        },
        {
          "output_type": "display_data",
          "data": {
            "image/png": "[encoded data removed]",
            "text/plain": [
              "<Figure size 432x288 with 1 Axes>"
            ]
          },
          "metadata": {
            "tags": []
          }
        }
      ]
    },
    {
      "cell_type": "markdown",
      "metadata": {
        "button": false,
        "new_sheet": false,
        "run_control": {
          "read_only": false
        },
        "id": "km9kgkDLYj-D"
      },
      "source": [
        "Please explain that what type of loss and accuracy you set for training your model and why?"
      ]
    },
    {
      "cell_type": "markdown",
      "metadata": {
        "button": false,
        "new_sheet": false,
        "run_control": {
          "read_only": false
        },
        "id": "OYHW1dV3Yj-D"
      },
      "source": [
        "I used binary crossentropy because it is a loss function that is used for single label categorization. This is when only one category is applicable for each data point. In other words, an example can belong to one class only."
      ]
    },
    {
      "cell_type": "markdown",
      "metadata": {
        "id": "qZet365LYj-E"
      },
      "source": [
        "Visualize some layers and analyze them."
      ]
    },
    {
      "cell_type": "code",
      "metadata": {
        "id": "H4g24ZdSYj-F"
      },
      "source": [
        "from __future__ import print_function\n",
        "\n",
        "import time\n",
        "import numpy as np\n",
        "from PIL import Image as pil_image\n",
        "from keras.preprocessing.image import save_img\n",
        "from keras import layers\n",
        "from keras.applications import vgg16\n",
        "from keras import backend as K\n",
        "\n",
        "\n",
        "def normalize(x):\n",
        "    return x / (K.sqrt(K.mean(K.square(x))) + K.epsilon())\n",
        "\n",
        "\n",
        "def deprocess_image(x):\n",
        "    x -= x.mean()\n",
        "    x /= (x.std() + K.epsilon())\n",
        "    x *= 0.25\n",
        "\n",
        "    x += 0.5\n",
        "    x = np.clip(x, 0, 1)\n",
        "\n",
        "    x *= 255\n",
        "    if K.image_data_format() == 'channels_first':\n",
        "        x = x.transpose((1, 2, 0))\n",
        "    x = np.clip(x, 0, 255).astype('uint8')\n",
        "    return x\n",
        "\n",
        "\n",
        "def process_image(x, former):\n",
        "    if K.image_data_format() == 'channels_first':\n",
        "        x = x.transpose((2, 0, 1))\n",
        "    return (x / 255 - 0.5) * 4 * former.std() + former.mean()\n",
        "\n",
        "\n",
        "def visualize_layer(model,\n",
        "                    layer_name,\n",
        "                    step=1.,\n",
        "                    epochs=15,\n",
        "                    upscaling_steps=9,\n",
        "                    upscaling_factor=1.2,\n",
        "                    output_dim=(412, 412),\n",
        "                    filter_range=(0, None)):\n",
        " \n",
        "\n",
        "    def _generate_filter_image(input_img,\n",
        "                               layer_output,\n",
        "                               filter_index):\n",
        "\n",
        "        s_time = time.time()\n",
        "        if K.image_data_format() == 'channels_first':\n",
        "            loss = K.mean(layer_output[:, filter_index, :, :])\n",
        "        else:\n",
        "            loss = K.mean(layer_output[:, :, :, filter_index])\n",
        "        grads = K.gradients(loss, input_img)[0]\n",
        "        grads = normalize(grads)\n",
        "        iterate = K.function([input_img], [loss, grads])\n",
        "\n",
        "        intermediate_dim = tuple(\n",
        "            int(x / (upscaling_factor ** upscaling_steps)) for x in output_dim)\n",
        "        if K.image_data_format() == 'channels_first':\n",
        "            input_img_data = np.random.random(\n",
        "                (1, 3, intermediate_dim[0], intermediate_dim[1]))\n",
        "        else:\n",
        "            input_img_data = np.random.random(\n",
        "                (1, intermediate_dim[0], intermediate_dim[1], 3))\n",
        "        input_img_data = (input_img_data - 0.5) * 20 + 128\n",
        "\n",
        "        for up in reversed(range(upscaling_steps)):\n",
        "            for _ in range(epochs):\n",
        "                loss_value, grads_value = iterate([input_img_data])\n",
        "                input_img_data += grads_value * step\n",
        "                if loss_value <= K.epsilon():\n",
        "                    return None\n",
        "\n",
        "            intermediate_dim = tuple(\n",
        "                int(x / (upscaling_factor ** up)) for x in output_dim)\n",
        "            img = deprocess_image(input_img_data[0])\n",
        "            img = np.array(pil_image.fromarray(img).resize(intermediate_dim,\n",
        "                                                           pil_image.BICUBIC))\n",
        "            input_img_data = np.expand_dims(\n",
        "                process_image(img, input_img_data[0]), 0)\n",
        "\n",
        "        img = deprocess_image(input_img_data[0])\n",
        "        e_time = time.time()\n",
        "        print('Costs of filter {:3}: {:5.0f} ( {:4.2f}s )'.format(filter_index,\n",
        "                                                                  loss_value,\n",
        "                                                                  e_time - s_time))\n",
        "        return img, loss_value\n",
        "\n",
        "    def _draw_filters(filters, n=None):\n",
        "\n",
        "        if n is None:\n",
        "            n = int(np.floor(np.sqrt(len(filters))))\n",
        "        filters.sort(key=lambda x: x[1], reverse=True)\n",
        "        filters = filters[:n * n]\n",
        "\n",
        "        MARGIN = 5\n",
        "        width = n * output_dim[0] + (n - 1) * MARGIN\n",
        "        height = n * output_dim[1] + (n - 1) * MARGIN\n",
        "        stitched_filters = np.zeros((width, height, 3), dtype='uint8')\n",
        "\n",
        "        for i in range(n):\n",
        "            for j in range(n):\n",
        "                img, _ = filters[i * n + j]\n",
        "                width_margin = (output_dim[0] + MARGIN) * i\n",
        "                height_margin = (output_dim[1] + MARGIN) * j\n",
        "                stitched_filters[\n",
        "                    width_margin: width_margin + output_dim[0],\n",
        "                    height_margin: height_margin + output_dim[1], :] = img\n",
        "\n",
        "        save_img('vgg_{0:}_{1:}x{1:}.png'.format(layer_name, n), stitched_filters)\n",
        "\n",
        "    assert len(model.inputs) == 1\n",
        "    input_img = model.inputs[0]\n",
        "\n",
        "    layer_dict = dict([(layer.name, layer) for layer in model.layers[1:]])\n",
        "\n",
        "    output_layer = layer_dict[layer_name]\n",
        "    assert isinstance(output_layer, layers.Conv2D)\n",
        "\n",
        "    filter_lower = filter_range[0]\n",
        "    filter_upper = (filter_range[1]\n",
        "                    if filter_range[1] is not None\n",
        "                    else len(output_layer.get_weights()[1]))\n",
        "    assert(filter_lower >= 0\n",
        "           and filter_upper <= len(output_layer.get_weights()[1])\n",
        "           and filter_upper > filter_lower)\n",
        "    print('Compute filters {:} to {:}'.format(filter_lower, filter_upper))\n",
        "\n",
        "    processed_filters = []\n",
        "    for f in range(filter_lower, filter_upper):\n",
        "        img_loss = _generate_filter_image(input_img, output_layer.output, f)\n",
        "\n",
        "        if img_loss is not None:\n",
        "            processed_filters.append(img_loss)\n",
        "\n",
        "    print('{} filter processed.'.format(len(processed_filters)))\n",
        "    _draw_filters(processed_filters)\n",
        "\n",
        "LAYER_NAME = 'block4_conv1'\n",
        "print(m.summary())\n",
        "\n",
        "visualize_layer(m, LAYER_NAME)"
      ],
      "execution_count": null,
      "outputs": []
    },
    {
      "cell_type": "markdown",
      "metadata": {
        "button": false,
        "new_sheet": false,
        "run_control": {
          "read_only": false
        },
        "id": "YRMn4ZREYj-H"
      },
      "source": [
        "شبکه دارای ساختار سلسله مراتبی است به طوری که فیلترهای نمایش داده شده در لایه‌های اول ویژگی های ساده ماننده خطوط عمودی را پیدا میکنند و در لایه های جلوتر این ویژگی ها باهم ترکیب شده و به عنوان مثال اژیر ماشین پلیس را پیدا میکنند."
      ]
    },
    {
      "cell_type": "markdown",
      "metadata": {
        "button": false,
        "id": "pBjq-MvamPXO",
        "new_sheet": false,
        "run_control": {
          "read_only": false
        }
      },
      "source": [
        "# Submission"
      ]
    },
    {
      "cell_type": "markdown",
      "metadata": {
        "button": false,
        "id": "7o4q5LiFiOx1",
        "new_sheet": false,
        "run_control": {
          "read_only": false
        }
      },
      "source": [
        "Congratulations! You finished the assignment & you're ready to submit your work. Please follow the instruction:\n",
        "\n",
        "1. Check and review your answers. Make sure all of the cell outputs are what you want. \n",
        "2. Select File > Save.\n",
        "3. Run **Create Submission** cell, It may take several minutes and it may ask you for your credential.\n",
        "4. Run **Download Submission** cell to obtain your submission as a zip file.\n",
        "5. Grab downloaded file (`dl_asg02__xx__xx.zip`) and submit it via [https://forms.gle/Fb7gvVJHp8RePvo6A](https://forms.gle/Fb7gvVJHp8RePvo6A)."
      ]
    },
    {
      "cell_type": "markdown",
      "metadata": {
        "button": false,
        "id": "iWRUf35av3ZP",
        "new_sheet": false,
        "run_control": {
          "read_only": false
        }
      },
      "source": [
        "**Note: ** We need your Github token to create (if doesn't exist previously) new repository to store learned model data. Also Google Drive token enables us to download the current notebook & create a submission. If you are interested feel free to check our code."
      ]
    },
    {
      "cell_type": "markdown",
      "metadata": {
        "button": false,
        "id": "cTytERc-vlaK",
        "new_sheet": false,
        "run_control": {
          "read_only": false
        }
      },
      "source": [
        "## Create Submission (Run the cell)"
      ]
    },
    {
      "cell_type": "code",
      "metadata": {
        "id": "1P_D5MYXiyeS"
      },
      "source": [
        "!rm -rf /content/iust-deep-learning-assignments"
      ],
      "execution_count": null,
      "outputs": []
    },
    {
      "cell_type": "code",
      "metadata": {
        "button": false,
        "id": "r4o37hc3AEUg",
        "new_sheet": false,
        "run_control": {
          "read_only": false
        },
        "colab": {
          "base_uri": "https://localhost:8080/",
          "height": 955
        },
        "outputId": "f489fb50-16de-4595-db82-1811a300f9ca"
      },
      "source": [
        "#@title\n",
        "! pip install -U --quiet PyDrive > /dev/null\n",
        "! wget -q https://github.com/github/hub/releases/download/v2.10.0/hub-linux-amd64-2.10.0.tgz \n",
        "  \n",
        "import os\n",
        "import time\n",
        "import yaml\n",
        "import json\n",
        "\n",
        "from google.colab import files\n",
        "from IPython.display import Javascript\n",
        "from pydrive.auth import GoogleAuth\n",
        "from pydrive.drive import GoogleDrive\n",
        "from google.colab import auth\n",
        "from oauth2client.client import GoogleCredentials\n",
        "\n",
        "asg_name = 'assignment_02'\n",
        "script_save = '''\n",
        "require([\"base/js/namespace\"],function(Jupyter) {\n",
        "    Jupyter.notebook.save_checkpoint();\n",
        "});\n",
        "'''\n",
        "repo_name = 'iust-deep-learning-assignments'\n",
        "submission_file_name = 'dl_asg02__%s__%s.zip'%(student_id, student_name.lower().replace(' ',  '_'))\n",
        "\n",
        "! tar xf hub-linux-amd64-2.10.0.tgz\n",
        "! cd hub-linux-amd64-2.10.0/ && chmod a+x install && ./install\n",
        "! hub config --global hub.protocol https\n",
        "! hub config --global user.email \"$Your_Github_account_Email\"\n",
        "! hub config --global user.name \"$student_name\"\n",
        "! hub api --flat -X GET /user\n",
        "! hub api -F affiliation=owner -X GET /user/repos > repos.json\n",
        "\n",
        "repos = json.load(open('repos.json'))\n",
        "repo_names = [r['name'] for r in repos]\n",
        "has_repository = repo_name in repo_names\n",
        "if not has_repository:\n",
        "  get_ipython().system_raw('! hub api -X POST -F name=%s /user/repos > repo_info.json' % repo_name)\n",
        "  repo_info = json.load(open('repo_info.json')) \n",
        "  repo_url = repo_info['clone_url']\n",
        "else:\n",
        "  for r in repos:\n",
        "    if r['name'] == repo_name:\n",
        "      repo_url = r['clone_url']\n",
        "  \n",
        "stream = open(\"/root/.config/hub\", \"r\")\n",
        "token = list(yaml.load_all(stream))[0]['github.com'][0]['oauth_token']\n",
        "repo_url_with_token = 'https://'+token+\"@\" +repo_url.split('https://')[1]\n",
        "\n",
        "! git clone \"$repo_url_with_token\"\n",
        "! cp -r \"$ASSIGNMENT_PATH\" \"$repo_name\"/\n",
        "! cd \"$repo_name\" && git add -A\n",
        "! cd \"$repo_name\" && git commit -m \"Add assignment 02 results\"\n",
        "! cd \"$repo_name\" && git push -u origin master\n",
        "\n",
        "sub_info = {\n",
        "    'student_id': student_id,\n",
        "    'student_name': student_name, \n",
        "    'repo_url': repo_url,\n",
        "    'asg_dir_contents': os.listdir(str(ASSIGNMENT_PATH)),\n",
        "    'dateime': str(time.time()),\n",
        "    'asg_name': asg_name\n",
        "}\n",
        "json.dump(sub_info, open('info.json', 'w'))\n",
        "\n",
        "Javascript(script_save)\n",
        "\n",
        "auth.authenticate_user()\n",
        "gauth = GoogleAuth()\n",
        "gauth.credentials = GoogleCredentials.get_application_default()\n",
        "drive = GoogleDrive(gauth)\n",
        "file_id = drive.ListFile({'q':\"title='%s.ipynb'\"%asg_name}).GetList()[0]['id']\n",
        "downloaded = drive.CreateFile({'id': file_id})\n",
        "downloaded.GetContentFile('%s.ipynb'%asg_name) \n",
        "\n",
        "! jupyter nbconvert --to script \"$asg_name\".ipynb > /dev/null\n",
        "! jupyter nbconvert --to html \"$asg_name\".ipynb > /dev/null\n",
        "! zip \"$submission_file_name\" \"$asg_name\".ipynb \"$asg_name\".html \"$asg_name\".txt info.json > /dev/null\n",
        "\n",
        "print(\"##########################################\")\n",
        "print(\"Done! Submisson created, Please download using the bellow cell!\")"
      ],
      "execution_count": null,
      "outputs": [
        {
          "output_type": "stream",
          "text": [
            "\u001b[0;36m.login\u001b[m\toghahroodi\n",
            "\u001b[0;36m.id\u001b[m\t\u001b[0;35m44407313\u001b[m\n",
            "\u001b[0;36m.node_id\u001b[m\tMDQ6VXNlcjQ0NDA3MzEz\n",
            "\u001b[0;36m.avatar_url\u001b[m\thttps://avatars2.githubusercontent.com/u/44407313?v=4\n",
            "\u001b[0;36m.gravatar_id\u001b[m\t\n",
            "\u001b[0;36m.url\u001b[m\thttps://api.github.com/users/oghahroodi\n",
            "\u001b[0;36m.html_url\u001b[m\thttps://github.com/oghahroodi\n",
            "\u001b[0;36m.followers_url\u001b[m\thttps://api.github.com/users/oghahroodi/followers\n",
            "\u001b[0;36m.following_url\u001b[m\thttps://api.github.com/users/oghahroodi/following{/other_user}\n",
            "\u001b[0;36m.gists_url\u001b[m\thttps://api.github.com/users/oghahroodi/gists{/gist_id}\n",
            "\u001b[0;36m.starred_url\u001b[m\thttps://api.github.com/users/oghahroodi/starred{/owner}{/repo}\n",
            "\u001b[0;36m.subscriptions_url\u001b[m\thttps://api.github.com/users/oghahroodi/subscriptions\n",
            "\u001b[0;36m.organizations_url\u001b[m\thttps://api.github.com/users/oghahroodi/orgs\n",
            "\u001b[0;36m.repos_url\u001b[m\thttps://api.github.com/users/oghahroodi/repos\n",
            "\u001b[0;36m.events_url\u001b[m\thttps://api.github.com/users/oghahroodi/events{/privacy}\n",
            "\u001b[0;36m.received_events_url\u001b[m\thttps://api.github.com/users/oghahroodi/received_events\n",
            "\u001b[0;36m.type\u001b[m\tUser\n",
            "\u001b[0;36m.site_admin\u001b[m\t\u001b[1;33mfalse\u001b[m\n",
            "\u001b[0;36m.name\u001b[m\tOmid Ghahroodi\n",
            "\u001b[0;36m.company\u001b[m\t\n",
            "\u001b[0;36m.blog\u001b[m\t\n",
            "\u001b[0;36m.location\u001b[m\t\n",
            "\u001b[0;36m.email\u001b[m\t\n",
            "\u001b[0;36m.hireable\u001b[m\t\n",
            "\u001b[0;36m.bio\u001b[m\tCE student at Iran University of Science and Technology\r\\nResearch interests:AI, Quantum  Computing, Cryptography\n",
            "\u001b[0;36m.public_repos\u001b[m\t\u001b[0;35m16\u001b[m\n",
            "\u001b[0;36m.public_gists\u001b[m\t\u001b[0;35m0\u001b[m\n",
            "\u001b[0;36m.followers\u001b[m\t\u001b[0;35m16\u001b[m\n",
            "\u001b[0;36m.following\u001b[m\t\u001b[0;35m14\u001b[m\n",
            "\u001b[0;36m.created_at\u001b[m\t2018-10-23T15:07:01Z\n",
            "\u001b[0;36m.updated_at\u001b[m\t2019-12-19T23:36:13Z\n",
            "Cloning into 'iust-deep-learning-assignments'...\n",
            "warning: You appear to have cloned an empty repository.\n",
            "[master (root-commit) 823a7b4] Add assignment 02 results\n",
            " 1 file changed, 0 insertions(+), 0 deletions(-)\n",
            " create mode 100644 asg02/HW2.009.h5\n",
            "Counting objects: 4, done.\n",
            "Delta compression using up to 2 threads.\n",
            "Compressing objects: 100% (2/2), done.\n",
            "Writing objects: 100% (4/4), 119.72 MiB | 5.96 MiB/s, done.\n",
            "Total 4 (delta 0), reused 0 (delta 0)\n",
            "remote: error: GH001: Large files detected. You may want to try Git Large File Storage - https://git-lfs.github.com.\u001b[K\n",
            "remote: error: Trace: d1a59652ccce0a36f487b762f73c0b8d\u001b[K\n",
            "remote: error: See http://git.io/iEPt8g for more information.\u001b[K\n",
            "remote: error: File asg02/HW2.009.h5 is 128.33 MB; this exceeds GitHub's file size limit of 100.00 MB\u001b[K\n",
            "To https://github.com/oghahroodi/iust-deep-learning-assignments.git\n",
            " ! [remote rejected] master -> master (pre-receive hook declined)\n",
            "error: failed to push some refs to 'https://4dfa12054dbdb02a08c6d1f65d44ba70f6971b16@github.com/oghahroodi/iust-deep-learning-assignments.git'\n",
            "[NbConvertApp] Converting notebook assignment_02.ipynb to script\n",
            "[NbConvertApp] Writing 29447 bytes to assignment_02.py\n",
            "[NbConvertApp] Converting notebook assignment_02.ipynb to html\n",
            "[NbConvertApp] Writing 995663 bytes to assignment_02.html\n",
            "##########################################\n",
            "Done! Submisson created, Please download using the bellow cell!\n"
          ],
          "name": "stdout"
        }
      ]
    },
    {
      "cell_type": "markdown",
      "metadata": {
        "button": false,
        "id": "mX9OFzaLtYu_",
        "new_sheet": false,
        "run_control": {
          "read_only": false
        }
      },
      "source": [
        "## Download Submission (Run the cell)"
      ]
    },
    {
      "cell_type": "code",
      "metadata": {
        "button": false,
        "id": "PUzTlnX1nS8X",
        "new_sheet": false,
        "run_control": {
          "read_only": false
        }
      },
      "source": [
        "#@title\n",
        "files.download(submission_file_name)"
      ],
      "execution_count": null,
      "outputs": []
    },
    {
      "cell_type": "markdown",
      "metadata": {
        "id": "bPSE_erOYj-O"
      },
      "source": [
        "If that cell makes an error when running you can download file dl_asg02_your_struden_id_your_name.zip from left panel and files section by right-clicking on it and choosing download button."
      ]
    },
    {
      "cell_type": "markdown",
      "metadata": {
        "id": "m9KaPEsgPruT"
      },
      "source": [
        "# Special Thanks"
      ]
    },
    {
      "cell_type": "markdown",
      "metadata": {
        "id": "UOXZZrFjPxWO"
      },
      "source": [
        "Special thanks to Amirhossein Kazemnejad and Kiamehr Razaee for creating the template of deep learning course assignments."
      ]
    }
  ]
}